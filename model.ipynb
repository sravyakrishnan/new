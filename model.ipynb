{
 "cells": [
  {
   "cell_type": "code",
   "execution_count": 1,
   "id": "f01e6396",
   "metadata": {},
   "outputs": [
    {
     "name": "stdout",
     "output_type": "stream",
     "text": [
      "30\n"
     ]
    }
   ],
   "source": [
    "a = 10\n",
    "b = 20\n",
    "c= a+b\n",
    "print(c)"
   ]
  },
  {
   "cell_type": "markdown",
   "id": "8afc2cc8",
   "metadata": {},
   "source": [
    "## What is Anaconda Distribution? "
   ]
  },
  {
   "cell_type": "markdown",
   "id": "2eb6eff6",
   "metadata": {},
   "source": [
    "- core python + Data science libraries (Numpy, pandas, matplotlib, seabormn )"
   ]
  },
  {
   "cell_type": "markdown",
   "id": "cd978edb",
   "metadata": {},
   "source": [
    "- Anacoanda distribution  is a python package (library) distribution  platform\n",
    "- It is an open source and it provides n numbers of data science libraries related to python under one umbrealla "
   ]
  },
  {
   "cell_type": "code",
   "execution_count": null,
   "id": "1331fe4a",
   "metadata": {},
   "outputs": [],
   "source": [
    "# core python\n",
    "# Numpy - Numerical python  ------> Numerical computation \n",
    "# pandas - Panelling data  -------> Data manipulation (excel)\n",
    "# Matplotlib ----- Visulaisation\n",
    "# Seaborn ------ Visualisation \n",
    "# sklearn ----- > Statistical analysis and Machine learning algorithms \n",
    "# flask ----- Deployemnet"
   ]
  },
  {
   "cell_type": "markdown",
   "id": "e50142f2",
   "metadata": {},
   "source": [
    "## What is a Jupyter Notebook?"
   ]
  },
  {
   "cell_type": "markdown",
   "id": "e03312c8",
   "metadata": {},
   "source": [
    "- It is a browser based IDE provided by anaconda\n",
    "- IDE - Integrated Development Environment\n",
    "-  An IDE is the interface(medium) between the user and the system"
   ]
  },
  {
   "cell_type": "code",
   "execution_count": null,
   "id": "316d82c5",
   "metadata": {},
   "outputs": [],
   "source": [
    "# IDE -----> Jupyter notebook, Spyder, Pycharm, VScode, Thonny etc"
   ]
  },
  {
   "cell_type": "markdown",
   "id": "68715372",
   "metadata": {},
   "source": [
    "### An overview of Jupyter Notebook "
   ]
  },
  {
   "cell_type": "markdown",
   "id": "50c03806",
   "metadata": {},
   "source": [
    "- In jupyter Notebook we will write code  in cell\n",
    "- We can write a single line or a multiple line code in a cell\n",
    "- we can execute the code cell wise\n",
    "- We get the output just below the cell "
   ]
  },
  {
   "cell_type": "code",
   "execution_count": 11,
   "id": "56aec5b3",
   "metadata": {},
   "outputs": [],
   "source": [
    "a = 10"
   ]
  },
  {
   "cell_type": "code",
   "execution_count": 10,
   "id": "263ced64",
   "metadata": {},
   "outputs": [],
   "source": [
    "a =10 \n",
    "b =20\n",
    "c = 30 "
   ]
  },
  {
   "cell_type": "code",
   "execution_count": 7,
   "id": "424e41b4",
   "metadata": {},
   "outputs": [],
   "source": [
    "a = 10"
   ]
  },
  {
   "cell_type": "code",
   "execution_count": 8,
   "id": "274eb3ce",
   "metadata": {},
   "outputs": [
    {
     "data": {
      "text/plain": [
       "10"
      ]
     },
     "execution_count": 8,
     "metadata": {},
     "output_type": "execute_result"
    }
   ],
   "source": [
    "a"
   ]
  },
  {
   "cell_type": "code",
   "execution_count": 9,
   "id": "2cd03ab5",
   "metadata": {},
   "outputs": [
    {
     "data": {
      "text/plain": [
       "20"
      ]
     },
     "execution_count": 9,
     "metadata": {},
     "output_type": "execute_result"
    }
   ],
   "source": [
    "b "
   ]
  },
  {
   "cell_type": "code",
   "execution_count": 12,
   "id": "ac4ad27c",
   "metadata": {},
   "outputs": [
    {
     "name": "stdout",
     "output_type": "stream",
     "text": [
      "HEllo\n"
     ]
    }
   ],
   "source": [
    "print(\"HEllo\")"
   ]
  },
  {
   "cell_type": "code",
   "execution_count": 13,
   "id": "5f4348fb",
   "metadata": {},
   "outputs": [
    {
     "name": "stdout",
     "output_type": "stream",
     "text": [
      "200\n"
     ]
    }
   ],
   "source": [
    "a =10\n",
    "b = 20\n",
    "c = a*b\n",
    "print(c)"
   ]
  },
  {
   "cell_type": "markdown",
   "id": "6b334cca",
   "metadata": {},
   "source": [
    "### Edit mode and command mode "
   ]
  },
  {
   "cell_type": "markdown",
   "id": "72e19112",
   "metadata": {},
   "source": [
    "#### Edit mode "
   ]
  },
  {
   "cell_type": "markdown",
   "id": "adc2f041",
   "metadata": {},
   "source": [
    "- We can write into a cell only in the edit mode \n",
    "- Edit mode is being represented by a green colour\n",
    "- To convert the mode form a command mode to a edit mode press enter or just click inside the cell"
   ]
  },
  {
   "cell_type": "markdown",
   "id": "62f38ef2",
   "metadata": {},
   "source": [
    "#### Command mode "
   ]
  },
  {
   "cell_type": "markdown",
   "id": "c194b5a2",
   "metadata": {},
   "source": [
    "- We cannot write the code into a cell in the command mode \n",
    "- In command mode we can select multiple cells and can do any operation \n",
    "- Command mode is represented by the blue color bar\n",
    "- To convert the cell from edit mode to command press esc key "
   ]
  },
  {
   "cell_type": "markdown",
   "id": "197ca3ff",
   "metadata": {},
   "source": [
    "## Code vs Markdown"
   ]
  },
  {
   "cell_type": "markdown",
   "id": "db9b8c8d",
   "metadata": {},
   "source": [
    "### Code mode "
   ]
  },
  {
   "cell_type": "markdown",
   "id": "d97f6b92",
   "metadata": {},
   "source": [
    "- we are going to write the python code in the code mode \n",
    "- If we write anything else but the python code then it wil going to throw an error "
   ]
  },
  {
   "cell_type": "code",
   "execution_count": 20,
   "id": "6551eece",
   "metadata": {},
   "outputs": [
    {
     "data": {
      "text/plain": [
       "0.5"
      ]
     },
     "execution_count": 20,
     "metadata": {},
     "output_type": "execute_result"
    }
   ],
   "source": [
    "a = 10\n",
    "b = 20 \n",
    "c = a/b\n",
    "c"
   ]
  },
  {
   "cell_type": "code",
   "execution_count": 21,
   "id": "b6e38d20",
   "metadata": {},
   "outputs": [
    {
     "ename": "SyntaxError",
     "evalue": "invalid syntax (1930256083.py, line 1)",
     "output_type": "error",
     "traceback": [
      "\u001b[1;36m  Cell \u001b[1;32mIn[21], line 1\u001b[1;36m\u001b[0m\n\u001b[1;33m    This is a Python Class taken by Mayank Atul Ghai\u001b[0m\n\u001b[1;37m              ^\u001b[0m\n\u001b[1;31mSyntaxError\u001b[0m\u001b[1;31m:\u001b[0m invalid syntax\n"
     ]
    }
   ],
   "source": [
    "This is a Python Class taken by Mayank Atul Ghai"
   ]
  },
  {
   "cell_type": "markdown",
   "id": "9c1aaed5",
   "metadata": {},
   "source": [
    "### Markdown "
   ]
  },
  {
   "cell_type": "markdown",
   "id": "16050d53",
   "metadata": {},
   "source": [
    "- In markdown we write simple text or notes in the markdown mode \n"
   ]
  },
  {
   "cell_type": "markdown",
   "id": "6ac464dd",
   "metadata": {},
   "source": [
    "This is a Python Class taken by Mayank Atul Ghai"
   ]
  },
  {
   "cell_type": "markdown",
   "id": "05d6f26e",
   "metadata": {},
   "source": [
    "# Python "
   ]
  },
  {
   "cell_type": "markdown",
   "id": "4427f30e",
   "metadata": {},
   "source": [
    "## Python"
   ]
  },
  {
   "cell_type": "markdown",
   "id": "f034d9e0",
   "metadata": {},
   "source": [
    "### Python "
   ]
  },
  {
   "cell_type": "markdown",
   "id": "9170895a",
   "metadata": {},
   "source": [
    "#### Python "
   ]
  },
  {
   "cell_type": "markdown",
   "id": "5cba2b5d",
   "metadata": {},
   "source": [
    "###### Python"
   ]
  },
  {
   "cell_type": "code",
   "execution_count": 25,
   "id": "ed574759",
   "metadata": {},
   "outputs": [],
   "source": [
    "##### Python"
   ]
  },
  {
   "cell_type": "markdown",
   "id": "e6fa38b4",
   "metadata": {},
   "source": [
    "- text goes here "
   ]
  },
  {
   "cell_type": "markdown",
   "id": "4cdd3f85",
   "metadata": {},
   "source": [
    "* text goes here "
   ]
  },
  {
   "cell_type": "markdown",
   "id": "09ec6b32",
   "metadata": {},
   "source": [
    "#### Bold"
   ]
  },
  {
   "cell_type": "markdown",
   "id": "a4348725",
   "metadata": {},
   "source": [
    "*Italic*"
   ]
  },
  {
   "cell_type": "markdown",
   "id": "87eda3af",
   "metadata": {},
   "source": [
    "##### *Bold and Italics*"
   ]
  },
  {
   "cell_type": "code",
   "execution_count": null,
   "id": "02a0d285",
   "metadata": {},
   "outputs": [],
   "source": []
  },
  {
   "cell_type": "markdown",
   "id": "ce13b76e",
   "metadata": {},
   "source": [
    "### ShortCuts Keys \n",
    "\n",
    "- To run a cell -----> Rshift + Enter \n",
    "- To add a cell above a particular cell -----> Press esc + press a in the command (press esc for the command mode)\n",
    "- To add a cell below a particular cell -----> Press esc + press b in the command mode \n",
    "- To convert the mode of the cell from code to markdown ----> Press m in the command mode \n",
    "- To convert the mode of the celll from markdown to code -----> Press y in the command mode \n",
    "- To delete a cell -----> press x in the command mode \n",
    "- To get the list of all the shortcuts keys -----> press h in the command mode "
   ]
  },
  {
   "cell_type": "markdown",
   "id": "103e7858",
   "metadata": {},
   "source": []
  }
 ],
 "metadata": {
  "kernelspec": {
   "display_name": "Python 3 (ipykernel)",
   "language": "python",
   "name": "python3"
  },
  "language_info": {
   "codemirror_mode": {
    "name": "ipython",
    "version": 3
   },
   "file_extension": ".py",
   "mimetype": "text/x-python",
   "name": "python",
   "nbconvert_exporter": "python",
   "pygments_lexer": "ipython3",
   "version": "3.11.5"
  }
 },
 "nbformat": 4,
 "nbformat_minor": 5
}
